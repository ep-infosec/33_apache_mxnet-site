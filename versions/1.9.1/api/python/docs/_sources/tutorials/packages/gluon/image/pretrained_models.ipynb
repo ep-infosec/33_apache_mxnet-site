{
 "cells": [
  {
   "cell_type": "markdown",
   "id": "0c4f106d",
   "metadata": {},
   "source": [
    "<!--- Licensed to the Apache Software Foundation (ASF) under one -->\n",
    "<!--- or more contributor license agreements.  See the NOTICE file -->\n",
    "<!--- distributed with this work for additional information -->\n",
    "<!--- regarding copyright ownership.  The ASF licenses this file -->\n",
    "<!--- to you under the Apache License, Version 2.0 (the -->\n",
    "<!--- \"License\"); you may not use this file except in compliance -->\n",
    "<!--- with the License.  You may obtain a copy of the License at -->\n",
    "\n",
    "<!---   http://www.apache.org/licenses/LICENSE-2.0 -->\n",
    "\n",
    "<!--- Unless required by applicable law or agreed to in writing, -->\n",
    "<!--- software distributed under the License is distributed on an -->\n",
    "<!--- \"AS IS\" BASIS, WITHOUT WARRANTIES OR CONDITIONS OF ANY -->\n",
    "<!--- KIND, either express or implied.  See the License for the -->\n",
    "<!--- specific language governing permissions and limitations -->\n",
    "<!--- under the License. -->\n",
    "\n",
    "# Using pre-trained models in MXNet\n",
    "\n",
    "\n",
    "In this tutorial we will see how to use multiple pre-trained models with Apache MXNet. First, let's download three image classification models from the Apache MXNet [Gluon model zoo](https://mxnet.apache.org/api/python/gluon/model_zoo.html).\n",
    "* **DenseNet-121** ([research paper](https://arxiv.org/abs/1608.06993)), improved state of the art on [ImageNet dataset](http://image-net.org/challenges/LSVRC) in 2016.\n",
    "* **MobileNet** ([research paper](https://arxiv.org/abs/1704.04861)), MobileNets are based on a streamlined architecture that uses depth-wise separable convolutions to build light weight deep neural networks, suitable for mobile applications.\n",
    "* **ResNet-18** ([research paper](https://arxiv.org/abs/1512.03385v1)), the -152 version is the 2015 winner in multiple categories.\n",
    "\n",
    "Why would you want to try multiple models? Why not just pick the one with the best accuracy? As we will see later in the tutorial, even though these models have been trained on the same dataset and optimized for maximum accuracy, they do behave slightly differently on specific images. In addition, prediction speed and memory footprints can vary, and that is an important factor for many applications. By trying a few pretrained models, you have an opportunity to find a model that can be a good fit for solving your business problem."
   ]
  },
  {
   "cell_type": "markdown",
   "id": "6d093060",
   "metadata": {},
   "source": [
    "```python\n",
    "import json\n",
    "\n",
    "import matplotlib.pyplot as plt\n",
    "import mxnet as mx\n",
    "from mxnet import gluon, nd\n",
    "from mxnet.gluon.model_zoo import vision\n",
    "import numpy as np\n",
    "%matplotlib inline\n",
    "```\n"
   ]
  },
  {
   "cell_type": "markdown",
   "id": "ee3963fb",
   "metadata": {},
   "source": [
    "## Loading the model\n",
    "\n",
    "The [Gluon Model Zoo](https://mxnet.apache.org/api/python/gluon/model_zoo.html) provides a collection of off-the-shelf models. You can get the ImageNet pre-trained model by using `pretrained=True`.\n",
    "If you want to train on your own classification problem from scratch, you can get an untrained network with a specific number of classes using the `classes` parameter: for example `net = vision.resnet18_v1(classes=10)`. However note that you cannot use the `pretrained` and `classes` parameter at the same time. If you want to use pre-trained weights as initialization of your network except for the last layer, have a look at the last section of this tutorial.\n",
    "\n",
    "We can specify the *context* where we want to run the model: the default behavior is to use a CPU context. There are two reasons for this:\n",
    "* First, this will allow you to test the notebook even if your machine is not equipped with a GPU :)\n",
    "* Second, we're going to predict a single image and we don't have any specific performance requirements. For production applications where you'd want to predict large batches of images with the best possible throughput, a GPU could definitely be the way to go.\n",
    "* If you want to use a GPU, make sure you have pip installed the right version of mxnet, or you will get an error when using the `mx.gpu()` context. Refer to the [install instructions](/get_started)"
   ]
  },
  {
   "cell_type": "markdown",
   "id": "26115a62",
   "metadata": {},
   "source": [
    "```python\n",
    "# We set the context to CPU, you can switch to GPU if you have one and installed a compatible version of MXNet\n",
    "ctx = mx.cpu()\n",
    "```\n"
   ]
  },
  {
   "cell_type": "markdown",
   "id": "ec880d1b",
   "metadata": {},
   "source": [
    "```python\n",
    "# We can load three the three models\n",
    "densenet121 = vision.densenet121(pretrained=True, ctx=ctx)\n",
    "mobileNet = vision.mobilenet0_5(pretrained=True, ctx=ctx)\n",
    "resnet18 = vision.resnet18_v1(pretrained=True, ctx=ctx)\n",
    "```\n"
   ]
  },
  {
   "cell_type": "markdown",
   "id": "9cb2bb66",
   "metadata": {},
   "source": [
    "We can look at the description of the MobileNet network for example, which has a relatively simple yet deep architecture"
   ]
  },
  {
   "cell_type": "markdown",
   "id": "431901fa",
   "metadata": {},
   "source": [
    "```python\n",
    "print(mobileNet)\n",
    "```\n"
   ]
  },
  {
   "cell_type": "markdown",
   "id": "43d22465",
   "metadata": {},
   "source": [
    "Let's have a closer look at the first convolution layer:"
   ]
  },
  {
   "cell_type": "markdown",
   "id": "54fdd4b1",
   "metadata": {},
   "source": [
    "```python\n",
    "print(mobileNet.features[0].params)\n",
    "```\n"
   ]
  },
  {
   "cell_type": "markdown",
   "id": "c23e2c8c",
   "metadata": {},
   "source": [
    "The first layer applies **`16`** different convolutional masks, of size **`InputChannels x 3 x 3`**. For the first convolution, there are **`3`** input channels, the `R`, `G`, `B` channels of the input image. That gives us the weight matrix of shape **`16 x 3 x 3 x 3`**. There is no bias applied in this convolution.\n",
    "\n",
    "Let's have a look at the output layer now:"
   ]
  },
  {
   "cell_type": "markdown",
   "id": "943f376a",
   "metadata": {},
   "source": [
    "```python\n",
    "print(mobileNet.output)\n",
    "```\n"
   ]
  },
  {
   "cell_type": "markdown",
   "id": "dd49797e",
   "metadata": {},
   "source": [
    "Did you notice the shape of layer? The weight matrix is **1000 x 512**. This layer contains 1,000 neurons: each of them will store an activation representative of the probability of the image belonging to a specific category. Each neuron is also fully connected to all 512 neurons in the previous layer.\n",
    "\n",
    "OK, enough exploring! Now let's use these models to classify our own images.\n",
    "\n",
    "## Loading the data\n",
    "All three models have been pre-trained on the ImageNet data set which includes over 1.2 million pictures of objects and animals sorted in 1,000 categories.\n",
    "We get the imageNet list of labels. That way we have the mapping so when the model predicts for example category index `4`, we know it is predicting `hammerhead, hammerhead shark`"
   ]
  },
  {
   "cell_type": "markdown",
   "id": "074a4bfa",
   "metadata": {},
   "source": [
    "```python\n",
    "mx.test_utils.download('https://raw.githubusercontent.com/dmlc/web-data/master/mxnet/doc/tutorials/onnx/image_net_labels.json')\n",
    "categories = np.array(json.load(open('image_net_labels.json', 'r')))\n",
    "print(categories[4])\n",
    "```\n"
   ]
  },
  {
   "cell_type": "markdown",
   "id": "bcd08b8f",
   "metadata": {},
   "source": [
    "Get a test image"
   ]
  },
  {
   "cell_type": "markdown",
   "id": "67f3b996",
   "metadata": {},
   "source": [
    "```python\n",
    "filename = mx.test_utils.download('https://github.com/dmlc/web-data/blob/master/mxnet/doc/tutorials/onnx/images/dog.jpg?raw=true', fname='dog.jpg')\n",
    "```\n"
   ]
  },
  {
   "cell_type": "markdown",
   "id": "68b6313f",
   "metadata": {},
   "source": [
    "If you want to use your own image for the test, copy the image to the same folder that contains the notebook and change the following line:"
   ]
  },
  {
   "cell_type": "markdown",
   "id": "f6915566",
   "metadata": {},
   "source": [
    "```python\n",
    "filename = 'dog.jpg'\n",
    "```\n"
   ]
  },
  {
   "cell_type": "markdown",
   "id": "a706bb61",
   "metadata": {},
   "source": [
    "Load the image as a NDArray"
   ]
  },
  {
   "cell_type": "markdown",
   "id": "4752e0e9",
   "metadata": {},
   "source": [
    "```python\n",
    "image = mx.image.imread(filename)\n",
    "plt.imshow(image.asnumpy())\n",
    "```\n"
   ]
  },
  {
   "cell_type": "markdown",
   "id": "cfe3667c",
   "metadata": {},
   "source": [
    "Neural network expects input in a specific format. Usually images comes in the `Width x Height x Channels` format. Where channels are the RGB channels.\n",
    "This network accepts images in the `BatchSize x 3 x 224 x 224`. `224 x 224` is the image resolution, that's how the model was trained. `3` is the number of channels : Red, Green and Blue (in this order). In this case we use a `BatchSize` of `1` since we are predicting one image at a time.\n",
    "Here are the transformation steps:\n",
    "* Read the image: this will return a NDArray shaped as (image height, image width, 3), with the three channels in RGB order.\n",
    "* Resize the shorter edge of the image 224.\n",
    "* Crop, using a size of 224x224 from the center of the image.\n",
    "* Shift the mean and standard deviation of our color channels to match the ones of the dataset the network has been trained on.\n",
    "* Transpose the array from (Height, Width, 3) to (3, Height, Width).\n",
    "* Add a fourth dimension, the batch dimension."
   ]
  },
  {
   "cell_type": "markdown",
   "id": "0979346a",
   "metadata": {},
   "source": [
    "```python\n",
    "def transform(image):\n",
    "    resized = mx.image.resize_short(image, 224) #minimum 224x224 images\n",
    "    cropped, crop_info = mx.image.center_crop(resized, (224, 224))\n",
    "    normalized = mx.image.color_normalize(cropped.astype(np.float32)/255,\n",
    "                                      mean=mx.nd.array([0.485, 0.456, 0.406]),\n",
    "                                      std=mx.nd.array([0.229, 0.224, 0.225]))\n",
    "    # the network expect batches of the form (N,3,224,224)\n",
    "    transposed = normalized.transpose((2,0,1))  # Transposing from (224, 224, 3) to (3, 224, 224)\n",
    "    batchified = transposed.expand_dims(axis=0) # change the shape from (3, 224, 224) to (1, 3, 224, 224)\n",
    "    return batchified\n",
    "```\n"
   ]
  },
  {
   "cell_type": "markdown",
   "id": "aa796a18",
   "metadata": {},
   "source": [
    "## Testing the different networks\n",
    "We run the image through each pre-trained network. The models output a *NDArray* holding 1,000 activation values, which we convert to probabilities using the `softmax()` function, corresponding to the 1,000 categories it has been trained on. The output prediction NDArray has only one row since batch size is equal to 1"
   ]
  },
  {
   "cell_type": "markdown",
   "id": "f70f844e",
   "metadata": {},
   "source": [
    "```python\n",
    "predictions = resnet18(transform(image)).softmax()\n",
    "print(predictions.shape)\n",
    "```\n"
   ]
  },
  {
   "cell_type": "markdown",
   "id": "414e65fd",
   "metadata": {},
   "source": [
    "We then take the top `k` predictions for our image, here the top `3`."
   ]
  },
  {
   "cell_type": "markdown",
   "id": "2d3259c3",
   "metadata": {},
   "source": [
    "```python\n",
    "top_pred = predictions.topk(k=3)[0].asnumpy()\n",
    "```\n"
   ]
  },
  {
   "cell_type": "markdown",
   "id": "5bec6093",
   "metadata": {},
   "source": [
    "And we print the categories predicted with their corresponding probabilities:"
   ]
  },
  {
   "cell_type": "markdown",
   "id": "20bb76a4",
   "metadata": {},
   "source": [
    "```python\n",
    "for index in top_pred:\n",
    "    probability = predictions[0][int(index)]\n",
    "    category = categories[int(index)]\n",
    "    print(\"{}: {:.2f}%\".format(category, probability.asscalar()*100))\n",
    "```\n"
   ]
  },
  {
   "cell_type": "markdown",
   "id": "b3760f4f",
   "metadata": {},
   "source": [
    "Let's turn this into a function. Our parameters are an image, a model, a list of categories and the number of top categories we'd like to print."
   ]
  },
  {
   "cell_type": "markdown",
   "id": "2056077a",
   "metadata": {},
   "source": [
    "```python\n",
    "def predict(model, image, categories, k):\n",
    "    predictions = model(transform(image)).softmax()\n",
    "    top_pred = predictions.topk(k=k)[0].asnumpy()\n",
    "    for index in top_pred:\n",
    "        probability = predictions[0][int(index)]\n",
    "        category = categories[int(index)]\n",
    "        print(\"{}: {:.2f}%\".format(category, probability.asscalar()*100))\n",
    "    print('')\n",
    "```\n"
   ]
  },
  {
   "cell_type": "markdown",
   "id": "5ae2d6cd",
   "metadata": {},
   "source": [
    "### DenseNet121"
   ]
  },
  {
   "cell_type": "markdown",
   "id": "5549a6ec",
   "metadata": {},
   "source": [
    "```python\n",
    "%%time\n",
    "predict(densenet121, image, categories, 3)\n",
    "```\n"
   ]
  },
  {
   "cell_type": "markdown",
   "id": "d3c64c22",
   "metadata": {},
   "source": [
    "### MobileNet"
   ]
  },
  {
   "cell_type": "markdown",
   "id": "c7d76c84",
   "metadata": {},
   "source": [
    "```python\n",
    "%%time\n",
    "predict(mobileNet, image, categories, 3)\n",
    "```\n"
   ]
  },
  {
   "cell_type": "markdown",
   "id": "94bb827e",
   "metadata": {},
   "source": [
    "### Resnet-18"
   ]
  },
  {
   "cell_type": "markdown",
   "id": "8a99a6fc",
   "metadata": {},
   "source": [
    "```python\n",
    "%%time\n",
    "predict(resnet18, image, categories, 3)\n",
    "```\n"
   ]
  },
  {
   "cell_type": "markdown",
   "id": "6cd61cac",
   "metadata": {},
   "source": [
    "As you can see, pre-trained networks produce slightly different predictions, and have different run-time. In this case, MobileNet is almost **5 times faster** than DenseNet!\n",
    "\n",
    "## Fine-tuning pre-trained models\n",
    "\n",
    "You can replace the output layer of your pre-trained model to fit the right number of classes for your own image classification task like this, for example for 10 classes:"
   ]
  },
  {
   "cell_type": "markdown",
   "id": "6b564a98",
   "metadata": {},
   "source": [
    "```python\n",
    "NUM_CLASSES = 10\n",
    "with resnet18.name_scope():\n",
    "    resnet18.output = gluon.nn.Dense(NUM_CLASSES)\n",
    "```\n"
   ]
  },
  {
   "cell_type": "markdown",
   "id": "b7b977c2",
   "metadata": {},
   "source": [
    "```python\n",
    "print(resnet18.output)\n",
    "```\n"
   ]
  },
  {
   "cell_type": "markdown",
   "id": "d40c11e4",
   "metadata": {},
   "source": [
    "Now you can train your model on your new data using the pre-trained weights as initialization. This is called transfer learning and it has proved to be very useful especially in the cases where you only have access to a small dataset. Your network will have already learned how to perform general pattern detection and feature extraction on the larger dataset.\n",
    "You can learn more about transfer learning and fine-tuning with MXNet in these tutorials:\n",
    "- [Transferring knowledge through fine-tuning](http://gluon.mxnet.io/chapter08_computer-vision/fine-tuning.html)\n",
    "- [Fine Tuning an ONNX Model](/api/python/docs/tutorials/packages/onnx/fine_tuning_gluon.html)\n",
    "\n",
    "\n",
    "That's it! Explore the model zoo, have fun with pre-trained models!\n",
    "\n",
    "<!-- INSERT SOURCE DOWNLOAD BUTTONS -->"
   ]
  }
 ],
 "metadata": {
  "language_info": {
   "name": "python"
  }
 },
 "nbformat": 4,
 "nbformat_minor": 5
}